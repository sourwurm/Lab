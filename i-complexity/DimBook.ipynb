{
 "cells": [
  {
   "cell_type": "markdown",
   "metadata": {},
   "source": [
    "## DimBook\n",
    "\n",
    "The dimension cleaning script, but in an easily manipulateable notebook instead. This contains code that allows you to either apply the function to a single file, or to every file in a particular folder. REQUIRES functions.py\n",
    "\n",
    "Check the README for relevant documentation. Examples are included in the Dimension Clean notebook as well.\n",
    "\n",
    "filename - name of the file (ex: 'eng.txt')\n",
    "<br>\n",
    "directory - directory to look for file in. (Useful for when iterating through a folder of files)\n",
    "<br>\n",
    "save_to - Directory to a destination folder for the file to be saved in.\n",
    "\n",
    "(OPTIONAL)\n",
    "<br>\n",
    "dim1 - dimension to appear FIRST within a word's feature column.\n",
    "<br>\n",
    "dim2 - dimension to appear SECOND within a word's feature column. dim1 MUST be specified.\n",
    "<br>\n",
    "dim3 - dimesnion to appear THIRD within a word's feature column. dim1 and dim2 MUST BOTH be specified.\n",
    "\n",
    "DIMENSION OPTIONS (and appropriate spellings):\n",
    "------------------------------------------------------------------------\n",
    " Aktionsart |\n",
    " Animacy |\n",
    " Argument |\n",
    " Aspect |\n",
    " Case |\n",
    " Comparison |\n",
    " Definiteness |\n",
    " Deixis |\n",
    " Evidentiality |\n",
    " Finiteness |\n",
    " Gender |\n",
    " Information Structure |\n",
    " Interrogativity |\n",
    " Language-Specific Features |\n",
    " Mood |\n",
    " Number |\n",
    " Part of Speech |\n",
    " Person |\n",
    " Polarity |\n",
    " Politeness |\n",
    " Possession |\n",
    " Switch-Reference |\n",
    " Tense |\n",
    " Valency |\n",
    " Voice"
   ]
  },
  {
   "cell_type": "code",
   "execution_count": 2,
   "metadata": {},
   "outputs": [],
   "source": [
    "#importing from functions.py\n",
    "from functions import alphabetizer, dim_ord, pov, dim_pop, master"
   ]
  },
  {
   "cell_type": "code",
   "execution_count": 1,
   "metadata": {},
   "outputs": [],
   "source": [
    "#uncomment to get more details on a particular function\n",
    "\n",
    "#alphabetizer?\n",
    "#dim_ord?\n",
    "#pov?\n",
    "#dim_pop?\n",
    "#master?"
   ]
  },
  {
   "cell_type": "code",
   "execution_count": 3,
   "metadata": {},
   "outputs": [],
   "source": [
    "#fill in with appropriate values\n",
    "filename = ''\n",
    "directory = ''\n",
    "save_to = ''\n",
    "\n",
    "#optional\n",
    "dim1 = ''\n",
    "dim2 = ''\n",
    "dim3 = ''"
   ]
  },
  {
   "cell_type": "code",
   "execution_count": null,
   "metadata": {},
   "outputs": [],
   "source": [
    "#applying to a single file\n",
    "#specify dim1, dim2, and dim3 if desired\n",
    "master(filename, directory, save_to)"
   ]
  },
  {
   "cell_type": "code",
   "execution_count": null,
   "metadata": {},
   "outputs": [],
   "source": [
    "#applying to every file in a folder\n",
    "for file in os.listdir(directory):\n",
    "    \n",
    "    #specify dim1, dim2, and dim3 if desired\n",
    "    master(file, directory, save_dir)\n",
    "                           "
   ]
  }
 ],
 "metadata": {
  "kernelspec": {
   "display_name": "Python 3",
   "language": "python",
   "name": "python3"
  },
  "language_info": {
   "codemirror_mode": {
    "name": "ipython",
    "version": 3
   },
   "file_extension": ".py",
   "mimetype": "text/x-python",
   "name": "python",
   "nbconvert_exporter": "python",
   "pygments_lexer": "ipython3",
   "version": "3.7.1"
  }
 },
 "nbformat": 4,
 "nbformat_minor": 2
}
